{
 "cells": [
  {
   "cell_type": "markdown",
   "metadata": {},
   "source": [
    "This jupyter notebook is for testing painting GREAT array profiles onto the sky"
   ]
  },
  {
   "cell_type": "code",
   "execution_count": 1,
   "metadata": {},
   "outputs": [],
   "source": [
    "#Import library\n",
    "import sens_map_lib\n",
    "import numpy as np\n",
    "from astropy.modeling import models\n",
    "from matplotlib import pyplot"
   ]
  },
  {
   "cell_type": "code",
   "execution_count": null,
   "metadata": {},
   "outputs": [],
   "source": [
    "#Generate sky object\n",
    "sky_grid = sens_map_lib.sky([-50,50], [-50,50], 0.2)\n",
    "\n",
    "#Plot empty sky grid\n",
    "sky_grid.plot('data')"
   ]
  },
  {
   "cell_type": "code",
   "execution_count": null,
   "metadata": {},
   "outputs": [],
   "source": [
    "#Create a point source to model the \"true\" signal on the sky\n",
    "#This source will be a 2D gaussian gererated from an astropy.modeling object\n",
    "\n",
    "#Set parameters for 2D gaussian\n",
    "x = 0.\n",
    "y = 0.\n",
    "amplitude = 10.0\n",
    "fwhm = 1.0\n",
    "stddev = fwhm / (2.0 * np.sqrt(np.log(2.0)))#Convert FWHM to stddev\n",
    "\n",
    "#Create 2D gaussian object and import it into the \"the\" signal omn the sky\n",
    "point_source_gaussian = models.Gaussian2D(amplitude=amplitude, x_mean=x, y_mean=y, x_stddev=stddev, y_stddev=stddev)\n",
    "sky_grid.input(point_source_gaussian)\n",
    "\n",
    "#Plot the \"true\" signal on the sky\n",
    "sky_grid.plot('signal')"
   ]
  },
  {
   "cell_type": "code",
   "execution_count": null,
   "metadata": {},
   "outputs": [],
   "source": [
    "#Generate an LFA array object\n",
    "lfa_array = sens_map_lib.LFAV_array()"
   ]
  },
  {
   "cell_type": "code",
   "execution_count": null,
   "metadata": {},
   "outputs": [],
   "source": [
    "#Simulate a single point observation for the point source\n",
    "\n",
    "#Clear sky object\n",
    "sky_grid.clear()\n",
    "\n",
    "#Test a single pointing being painted onto the sky\n",
    "lfa_array.single_point(sky_grid, x=0., y=0., array_angle=0.0, time=60.0, cycles=5.0)\n",
    "\n",
    "#simulate observagtion\n",
    "sky_grid.simulate_observation(Tsys=2480.0)\n",
    "\n",
    "#Show results\n",
    "pyplot.figure()\n",
    "sky_grid.plot('signal')\n",
    "pyplot.figure()\n",
    "sky_grid.plot('exposure')\n",
    "pyplot.figure()\n",
    "sky_grid.plot('noise')\n",
    "pyplot.figure()\n",
    "sky_grid.plot('data')\n",
    "pyplot.figure()\n",
    "sky_grid.plot('s2n')"
   ]
  },
  {
   "cell_type": "code",
   "execution_count": null,
   "metadata": {},
   "outputs": [],
   "source": [
    "#Simulate a honeycomb map observation for the point source\n",
    "\n",
    "#Clear sky object\n",
    "#sky_grid.clear()\n",
    "sky_grid = sens_map_lib.sky([-200,200], [-200,200], 0.2)\n",
    "\n",
    "\n",
    "#Test a single pointing being painted onto the sky\n",
    "lfa_array.honeycomb(sky_grid, x=0., y=0., array_angle=0.0, time=30.0, cycles=10.0)\n",
    "lfa_array.honeycomb(sky_grid, x=0., y=100, array_angle=0.0, time=30.0, cycles=10.0)\n",
    "\n",
    "\n",
    "#Set parameters for 2D gaussian\n",
    "x = 0.\n",
    "y = 0.\n",
    "amplitude = 10.0\n",
    "fwhm = 1.0\n",
    "stddev = fwhm / (2.0 * np.sqrt(np.log(2.0)))#Convert FWHM to stddev\n",
    "\n",
    "#Create 2D gaussian object and import it into the \"the\" signal omn the sky\n",
    "point_source_gaussian = models.Gaussian2D(amplitude=amplitude, x_mean=x, y_mean=y, x_stddev=stddev, y_stddev=stddev)\n",
    "sky_grid.input(point_source_gaussian)\n",
    "\n",
    "#Simulate the observations\n",
    "sky_grid.simulate_observation(Tsys=2480.0)\n",
    "\n",
    "#Show results\n",
    "pyplot.figure()\n",
    "sky_grid.plot('signal')\n",
    "pyplot.figure()\n",
    "sky_grid.plot('exposure')\n",
    "pyplot.figure()\n",
    "sky_grid.plot('noise')\n",
    "pyplot.figure()\n",
    "sky_grid.plot('data')\n",
    "pyplot.figure()\n",
    "sky_grid.plot('s2n')"
   ]
  },
  {
   "cell_type": "code",
   "execution_count": null,
   "metadata": {},
   "outputs": [],
   "source": [
    "#Now we will test using a ring as our \"science target\"\n",
    "\n",
    "\n",
    "#Generate sky object\n",
    "sky_grid = sens_map_lib.sky([-200,200], [-200,200], 0.2)\n",
    "\n",
    "#Plot empty sky grid\n",
    "pyplot.figure()\n",
    "sky_grid.plot()\n",
    "\n",
    "#Create \"ring\" and input into sky_grid\n",
    "ring = models.Ring2D(amplitude=1.0, x_0=0., y_0=0., r_in=40.0, r_out=75.0)\n",
    "sky_grid.input(ring)\n",
    "\n",
    "#Plot the ring\n",
    "pyplot.figure()\n",
    "sky_grid.plot('signal')"
   ]
  },
  {
   "cell_type": "code",
   "execution_count": null,
   "metadata": {},
   "outputs": [],
   "source": [
    "#Test raster mapping the ring and plotting the result\n",
    "\n",
    "#Clear sky\n",
    "sky_grid.clear()\n",
    "\n",
    "#Set parameters for 2D gaussian\n",
    "x = 0.\n",
    "y = 0.\n",
    "amplitude = 10.0\n",
    "fwhm = 1.0\n",
    "stddev = fwhm / (2.0 * np.sqrt(np.log(2.0)))#Convert FWHM to stddev\n",
    "\n",
    "#Create 2D gaussian object and import it into the \"the\" signal omn the sky\n",
    "point_source_gaussian = models.Gaussian2D(amplitude=amplitude, x_mean=x, y_mean=y, x_stddev=stddev, y_stddev=stddev)\n",
    "sky_grid.input(point_source_gaussian)\n",
    "\n",
    "#Test a raster map on the sky\n",
    "lfa_array.map(sky_grid, x=0.0, y=0.0, array_angle=0.0, map_angle=20.0, nx=30, ny=30,\n",
    "                    dx=8.0, dy=8.0, time=10.0, cycles=1)\n",
    "\n",
    "\n",
    "#Simulate the observations\n",
    "sky_grid.simulate_observation(Tsys=2480.0)\n",
    "\n",
    "#Print S/N\n",
    "print('S/N = ', sky_grid.s2n())\n",
    "\n",
    "#Show results\n",
    "pyplot.figure()\n",
    "sky_grid.plot('signal')\n",
    "pyplot.figure()\n",
    "sky_grid.plot('exposure')\n",
    "pyplot.figure()\n",
    "sky_grid.plot('noise')\n",
    "pyplot.figure()\n",
    "sky_grid.plot('data')\n",
    "pyplot.figure()\n",
    "sky_grid.plot('s2n')"
   ]
  },
  {
   "cell_type": "code",
   "execution_count": null,
   "metadata": {},
   "outputs": [],
   "source": [
    "#Test downsampling by a factor of 4\n",
    "sky_grid.downsample(4)\n",
    "\n",
    "#Print S/N\n",
    "print('S/N = ', sky_grid.s2n())\n",
    "\n",
    "#Show results\n",
    "pyplot.figure()\n",
    "sky_grid.plot('signal')\n",
    "pyplot.figure()\n",
    "sky_grid.plot('exposure')\n",
    "pyplot.figure()\n",
    "sky_grid.plot('noise')\n",
    "pyplot.figure()\n",
    "sky_grid.plot('data')\n",
    "pyplot.figure()\n",
    "sky_grid.plot('s2n')"
   ]
  },
  {
   "cell_type": "code",
   "execution_count": null,
   "metadata": {},
   "outputs": [],
   "source": [
    "#Test reading in a .aor file and using it to map the ring\n",
    "\n",
    "sky_grid = sens_map_lib.sky([-100,100], [-100,100], 0.2) #Generate sky object\n",
    "ring = models.Ring2D(amplitude=1.0, x_0=0., y_0=0., r_in=0.0, r_out=50.0)\n",
    "sky_grid.input(ring) #Add in artifical ring signal\n",
    "aors = sens_map_lib.open_aors('test2.aor') #Read in .aor file the result is a list of aor objects\n",
    "#for aor in aors: #Paint all aors in .aor file onto the exposure map for the sky_grid object, here we assume the LFAH array is used\n",
    "#    aor.paint(sky_grid, 'LFAH') \n",
    "aors[2].paint(sky_grid, '4G4') \n",
    "sky_grid.simulate_observation(Tsys=1100.0)#Simulate the observations\n",
    "\n",
    "\n",
    "#Show results\n",
    "pyplot.figure()\n",
    "sky_grid.plot('signal')\n",
    "pyplot.figure()\n",
    "sky_grid.plot('exposure')\n",
    "pyplot.figure()\n",
    "sky_grid.plot('noise')\n",
    "pyplot.figure()\n",
    "sky_grid.plot('data')\n",
    "pyplot.figure()\n",
    "sky_grid.plot('s2n')"
   ]
  },
  {
   "cell_type": "code",
   "execution_count": null,
   "metadata": {
    "scrolled": true
   },
   "outputs": [],
   "source": [
    "#Test Array OTF Mapping with a single block\n",
    "\n",
    "sky_grid = sens_map_lib.sky([-150,150], [-150,150], 0.2) #Generate sky object\n",
    "\n",
    "\n",
    "#ring = models.Ring2D(amplitude=1.0, x_0=0., y_0=0., r_in=0.0, r_out=50.0)\n",
    "#sky_grid.input(ring) #Add in artifical ring signal\n",
    "\n",
    "#Set parameters for 2D gaussian\n",
    "x = 0.\n",
    "y = 0.\n",
    "amplitude = 10.0\n",
    "fwhm = 1.0\n",
    "stddev = fwhm / (2.0 * np.sqrt(np.log(2.0)))#Convert FWHM to stddev\n",
    "point_source_gaussian = models.Gaussian2D(amplitude=amplitude, x_mean=x, y_mean=y, x_stddev=stddev, y_stddev=stddev)\n",
    "sky_grid.input(point_source_gaussian)\n",
    "\n",
    "lfa_array = sens_map_lib.LFAV_array()\n",
    "lfa_array.array_otf_block(sky_grid, x=0., y=0., step=3.0, length=3.0, time=1.0, cycles=5, map_angle=0., direction='x', nscans=2)\n",
    "\n",
    "#Simulate the observations\n",
    "sky_grid.simulate_observation(Tsys=2480.0)\n",
    "\n",
    "#Print S/N\n",
    "print('S/N = ', sky_grid.s2n())\n",
    "\n",
    "#Show results\n",
    "pyplot.figure()\n",
    "sky_grid.plot('signal')\n",
    "pyplot.figure()\n",
    "sky_grid.plot('exposure')\n",
    "pyplot.figure()\n",
    "sky_grid.plot('noise')\n",
    "pyplot.figure()\n",
    "sky_grid.plot('data')\n",
    "pyplot.figure()\n",
    "sky_grid.plot('s2n')\n"
   ]
  },
  {
   "cell_type": "code",
   "execution_count": null,
   "metadata": {},
   "outputs": [],
   "source": [
    "#Test Array OTF Mapping with a multiple blocks\n",
    "\n",
    "sky_grid = sens_map_lib.sky([-300,300], [-300,300], 0.5) #Generate sky object\n",
    "\n",
    "\n",
    "#ring = models.Ring2D(amplitude=1.0, x_0=0., y_0=0., r_in=0.0, r_out=50.0)\n",
    "#sky_grid.input(ring) #Add in artifical ring signal\n",
    "\n",
    "#Set parameters for 2D gaussian\n",
    "x = 0.\n",
    "y = 0.\n",
    "amplitude = 10.0\n",
    "fwhm = 10.0\n",
    "stddev = fwhm / (2.0 * np.sqrt(np.log(2.0)))#Convert FWHM to stddev\n",
    "point_source_gaussian = models.Gaussian2D(amplitude=amplitude, x_mean=x, y_mean=y, x_stddev=stddev, y_stddev=stddev)\n",
    "sky_grid.input(point_source_gaussian)\n",
    "\n",
    "\n",
    "lfa_array = sens_map_lib.LFAV_array()\n",
    "lfa_array.array_otf(sky_grid, nblock_scan=2, nblock_perp=2, x=0.4, y=0., step=3.0, length=3.0, time=2.0, cycles=5, map_angle=120., direction='x', nscans=4)\n",
    "\n",
    "\n",
    "#Simulate the observations\n",
    "sky_grid.simulate_observation(Tsys=2480.0)\n",
    "\n",
    "#Print S/N\n",
    "print('S/N = ', sky_grid.s2n())\n",
    "\n",
    "#Show results\n",
    "pyplot.figure()\n",
    "sky_grid.plot('signal')\n",
    "pyplot.figure()\n",
    "sky_grid.plot('exposure')\n",
    "pyplot.figure()\n",
    "sky_grid.plot('noise')\n",
    "pyplot.figure()\n",
    "sky_grid.plot('data')\n",
    "pyplot.figure()\n",
    "sky_grid.plot('s2n')\n"
   ]
  },
  {
   "cell_type": "code",
   "execution_count": 2,
   "metadata": {},
   "outputs": [
    {
     "name": "stderr",
     "output_type": "stream",
     "text": [
      "/Users/kkaplan1/Desktop/the_greatest_sensitivity_mapper/sens_map_lib.py:296: RuntimeWarning: divide by zero encountered in true_divide\n",
      "  self.noise = Tsys * (1.0 + self.Non**-0.5)**0.5 / (self.exptime * deltafreq)*0.5 #Calculate RMS temp. for TP OTF maps\n"
     ]
    },
    {
     "name": "stdout",
     "output_type": "stream",
     "text": [
      "S/N before convolution:  2.7185749197935025e-05\n"
     ]
    },
    {
     "name": "stderr",
     "output_type": "stream",
     "text": [
      "/Users/kkaplan1/Desktop/the_greatest_sensitivity_mapper/sens_map_lib.py:308: RuntimeWarning: invalid value encountered in true_divide\n",
      "  self.data = self.data / self.exptime #normalize by exposure time\n"
     ]
    },
    {
     "name": "stdout",
     "output_type": "stream",
     "text": [
      "8745.305315825843 136575287.482888\n",
      "S/N after convolution:  6.403285306590749e-05\n",
      "8745.305315825843 136575287.482888\n",
      "S/N =  6.403285306590749e-05\n"
     ]
    },
    {
     "data": {
      "image/png": "[encoded data removed]",
      "text/plain": [
       "<Figure size 432x288 with 2 Axes>"
      ]
     },
     "metadata": {
      "needs_background": "light"
     },
     "output_type": "display_data"
    },
    {
     "data": {
      "image/png": "[encoded data removed]",
      "text/plain": [
       "<Figure size 432x288 with 2 Axes>"
      ]
     },
     "metadata": {
      "needs_background": "light"
     },
     "output_type": "display_data"
    },
    {
     "data": {
      "image/png": "[encoded data removed]",
      "text/plain": [
       "<Figure size 432x288 with 2 Axes>"
      ]
     },
     "metadata": {
      "needs_background": "light"
     },
     "output_type": "display_data"
    },
    {
     "data": {
      "image/png": "[encoded data removed]",
      "text/plain": [
       "<Figure size 432x288 with 2 Axes>"
      ]
     },
     "metadata": {
      "needs_background": "light"
     },
     "output_type": "display_data"
    },
    {
     "data": {
      "image/png": "[encoded data removed]",
      "text/plain": [
       "<Figure size 432x288 with 2 Axes>"
      ]
     },
     "metadata": {
      "needs_background": "light"
     },
     "output_type": "display_data"
    }
   ],
   "source": [
    "#Test Array OTF Mapping read in from an .aor file\n",
    "\n",
    "sky_grid = sens_map_lib.sky([-300,300], [-300,300], 0.5) #Generate sky object\n",
    "\n",
    "\n",
    "#ring = models.Ring2D(amplitude=1.0, x_0=0., y_0=0., r_in=0.0, r_out=50.0)\n",
    "#sky_grid.input(ring) #Add in artifical ring signal\n",
    "\n",
    "#Set parameters for 2D gaussian\n",
    "x = 0.\n",
    "y = 0.\n",
    "amplitude = 10.0\n",
    "fwhm = 10.0\n",
    "stddev = fwhm / (2.0 * np.sqrt(np.log(2.0)))#Convert FWHM to stddev\n",
    "point_source_gaussian = models.Gaussian2D(amplitude=amplitude, x_mean=x, y_mean=y, x_stddev=stddev, y_stddev=stddev)\n",
    "sky_grid.input(point_source_gaussian)\n",
    "\n",
    "aors = sens_map_lib.open_aors('test.aor') #Read in .aor file the result is a list of aor objects\n",
    "aors[4].paint(sky_grid, 'LFAH')\n",
    "\n",
    "#Simulate the observations\n",
    "sky_grid.simulate_observation(Tsys=2480.0)\n",
    "\n",
    "#Print S/N\n",
    "print('S/N = ', sky_grid.s2n())\n",
    "\n",
    "#Show results\n",
    "pyplot.figure()\n",
    "sky_grid.plot('signal')\n",
    "pyplot.figure()\n",
    "sky_grid.plot('exposure')\n",
    "pyplot.figure()\n",
    "sky_grid.plot('noise')\n",
    "pyplot.figure()\n",
    "sky_grid.plot('data')\n",
    "pyplot.figure()\n",
    "sky_grid.plot('s2n')"
   ]
  },
  {
   "cell_type": "code",
   "execution_count": 2,
   "metadata": {},
   "outputs": [
    {
     "name": "stdout",
     "output_type": "stream",
     "text": [
      "Automatic pdb calling has been turned ON\n"
     ]
    }
   ],
   "source": [
    "pdb"
   ]
  },
  {
   "cell_type": "code",
   "execution_count": null,
   "metadata": {},
   "outputs": [],
   "source": [
    "# #Clear sky grid\n",
    "# sky_grid.clear()\n",
    "\n",
    "# #Test something like an OTF map on the sky\n",
    "# lfa_array.map(sky_grid, x=50.0, y=50.0, array_angle=0.0, map_angle=30.0, nx=21, ny=21,\n",
    "#                     dx=6.0, dy=6.0, time=1.0, cycles=5)\n",
    "\n",
    "# #Show result\n",
    "# sky_grid.plot()"
   ]
  },
  {
   "cell_type": "code",
   "execution_count": null,
   "metadata": {},
   "outputs": [],
   "source": [
    "# #Clear sky grid\n",
    "# sky_grid.clear()\n",
    "\n",
    "# #Test honeycomb map on the sky\n",
    "# lfa_array.honeycomb(sky_grid, x=50.0, y=50.0, array_angle=0.0, map_angle=0.0, time=1.0, cycles=5)\n",
    "\n",
    "# #Show result\n",
    "# sky_grid.plot()"
   ]
  },
  {
   "cell_type": "code",
   "execution_count": null,
   "metadata": {},
   "outputs": [],
   "source": [
    "# #Read in .aor file and show what's inside, the result is a list of aor objects\n",
    "# aors = sens_map_lib.open_aors('test.aor')\n",
    "\n",
    "# #Set up a new sky grid for this\n",
    "# sky_grid = sens_map_lib.sky([-100.0, 150.0], [-100.0, 150.0], 0.2)"
   ]
  },
  {
   "cell_type": "code",
   "execution_count": null,
   "metadata": {},
   "outputs": [],
   "source": [
    "# #Paint HFA first aor which is a single pointing\n",
    "# sky_grid.clear() #Clear sky grid\n",
    "# aors[0].paint(sky_grid, 'HFA') #Paint onto sky from aor\n",
    "\n",
    "# #Show result\n",
    "# sky_grid.plot()"
   ]
  },
  {
   "cell_type": "code",
   "execution_count": null,
   "metadata": {},
   "outputs": [],
   "source": [
    "# #Paint HFA second aor which is a Raster map\n",
    "# sky_grid.clear() #Clear sky grid\n",
    "# aors[1].paint(sky_grid, 'HFA') #Paint onto sky from aor\n",
    "\n",
    "# #Show result\n",
    "# sky_grid.plot()"
   ]
  },
  {
   "cell_type": "code",
   "execution_count": null,
   "metadata": {},
   "outputs": [],
   "source": [
    "# #Paint LFA third aor which is a OTF map\n",
    "# sky_grid.clear() #Clear sky grid\n",
    "# aors[2].paint(sky_grid, 'LFA') #Paint onto sky from aor\n",
    "\n",
    "# #Show result\n",
    "# sky_grid.plot()"
   ]
  },
  {
   "cell_type": "code",
   "execution_count": null,
   "metadata": {},
   "outputs": [],
   "source": [
    "# #Paint LFA fourth aor which is a honeycomb map\n",
    "# sky_grid.clear() #Clear sky grid\n",
    "# aors[3].paint(sky_grid, 'LFA') #Paint onto sky from aor\n",
    "\n",
    "# #Show result\n",
    "# sky_grid.plot()"
   ]
  },
  {
   "cell_type": "code",
   "execution_count": null,
   "metadata": {},
   "outputs": [],
   "source": [
    "# #Overplot all AORs for the LFA\n",
    "\n",
    "# sky_grid.clear() #Clear sky grid\n",
    "# for aor in aors:\n",
    "#     aor.paint(sky_grid, 'LFA') #Paint onto sky from aor\n",
    "\n",
    "# #Show result\n",
    "# sky_grid.plot()"
   ]
  },
  {
   "cell_type": "code",
   "execution_count": null,
   "metadata": {},
   "outputs": [],
   "source": [
    "# #Test reading in 4GREAT from an AOR\n",
    "\n",
    "# sky_grid.clear() #Clear sky grid\n",
    "# aors = sens_map_lib.open_aors('test2.aor')#Read in AORs\n",
    "\n",
    "# #Single pointing\n",
    "# aor = aors[0] #Grab a single pointing\n",
    "# figure()\n",
    "# sky_grid.clear()\n",
    "# suptitle('4G1 Single Pointing')\n",
    "# aor.paint(sky_grid, '4G1')\n",
    "# sky_grid.plot()\n",
    "# figure()\n",
    "# sky_grid.clear()\n",
    "# suptitle('4G2 Single Pointing')\n",
    "# aor.paint(sky_grid, '4G2')\n",
    "# sky_grid.plot()\n",
    "# figure()\n",
    "# sky_grid.clear()\n",
    "# suptitle('4G3 Single Pointing')\n",
    "# aor.paint(sky_grid, '4G3')\n",
    "# sky_grid.plot()\n",
    "# figure()\n",
    "# sky_grid.clear()\n",
    "# suptitle('4G4 Single Pointing')\n",
    "# aor.paint(sky_grid, '4G4')\n",
    "# sky_grid.plot()\n",
    "\n",
    "# #Raster Map\n",
    "# aor = aors[1] #Grab raster map\n",
    "# figure()\n",
    "# sky_grid.clear()\n",
    "# suptitle('4G1 Raster Map')\n",
    "# aor.paint(sky_grid, '4G1')\n",
    "# sky_grid.plot()\n",
    "# figure()\n",
    "# sky_grid.clear()\n",
    "# suptitle('4G2 Raster Map')\n",
    "# aor.paint(sky_grid, '4G2')\n",
    "# sky_grid.plot()\n",
    "# figure()\n",
    "# sky_grid.clear()\n",
    "# suptitle('4G3 Raster Map')\n",
    "# aor.paint(sky_grid, '4G3')\n",
    "# sky_grid.plot()\n",
    "# figure()\n",
    "# sky_grid.clear()\n",
    "# suptitle('4G4 Raster Map')\n",
    "# aor.paint(sky_grid, '4G4')\n",
    "# sky_grid.plot()\n",
    "\n",
    "# #OTF Map\n",
    "# aor = aors[2] #Grab OTF map\n",
    "# figure()\n",
    "# sky_grid.clear()\n",
    "# suptitle('4G1 OTF Map')\n",
    "# aor.paint(sky_grid, '4G1')\n",
    "# sky_grid.plot()\n",
    "# figure()\n",
    "# sky_grid.clear()\n",
    "# suptitle('4G2 OTF Map')\n",
    "# aor.paint(sky_grid, '4G2')\n",
    "# sky_grid.plot()\n",
    "# figure()\n",
    "# sky_grid.clear()\n",
    "# suptitle('4G3 OTF Map')\n",
    "# aor.paint(sky_grid, '4G3')\n",
    "# sky_grid.plot()\n",
    "# figure()\n",
    "# sky_grid.clear()\n",
    "# suptitle('4G4 OTF Map')\n",
    "# aor.paint(sky_grid, '4G4')\n",
    "# sky_grid.plot()"
   ]
  }
 ],
 "metadata": {
  "kernelspec": {
   "display_name": "Python 3",
   "language": "python",
   "name": "python3"
  },
  "language_info": {
   "codemirror_mode": {
    "name": "ipython",
    "version": 3
   },
   "file_extension": ".py",
   "mimetype": "text/x-python",
   "name": "python",
   "nbconvert_exporter": "python",
   "pygments_lexer": "ipython3",
   "version": "3.7.7"
  }
 },
 "nbformat": 4,
 "nbformat_minor": 4
}
