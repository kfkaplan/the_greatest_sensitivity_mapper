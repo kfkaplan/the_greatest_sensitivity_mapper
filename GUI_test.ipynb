{
 "cells": [
  {
   "cell_type": "code",
   "execution_count": 1,
   "metadata": {
    "scrolled": true
   },
   "outputs": [],
   "source": [
    "#This notebook is for testing ipython widgets to make a GUI for the GREAT Exposure Mapping Program"
   ]
  },
  {
   "cell_type": "code",
   "execution_count": 4,
   "metadata": {
    "scrolled": true
   },
   "outputs": [
    {
     "data": {
      "text/html": [
       "<style>.container { width:85% !important; }</style>"
      ],
      "text/plain": [
       "<IPython.core.display.HTML object>"
      ]
     },
     "metadata": {},
     "output_type": "display_data"
    },
    {
     "data": {
      "text/html": [
       "<script>\n",
       "code_show=true; \n",
       "function code_toggle() {\n",
       " if (code_show){\n",
       " $('div.input').hide();\n",
       " } else {\n",
       " $('div.input').show();\n",
       " }\n",
       " code_show = !code_show\n",
       "} \n",
       "$( document ).ready(code_toggle);\n",
       "</script>\n",
       "The raw code for this IPython notebook is by default hidden for easier reading.\n",
       "To toggle on/off the raw code, click <a href=\"javascript:code_toggle()\">here</a>."
      ],
      "text/plain": [
       "<IPython.core.display.HTML object>"
      ]
     },
     "execution_count": 4,
     "metadata": {},
     "output_type": "execute_result"
    }
   ],
   "source": [
    "#Import necessary libraries\n",
    "import sens_map_lib #main library for the sensitivity |mapper\n",
    "import numpy as np #numpy\n",
    "from astropy.modeling import models #For generating synthetic signal on the sky\n",
    "from matplotlib import pyplot as plt #For plotting\n",
    "\n",
    "import ipywidgets as widgets #For widgets\n",
    "from ipywidgets import Layout, HBox, VBox, Label\n",
    "%matplotlib widget\n",
    "\n",
    "from IPython.core.display import display, HTML #Make width of notebook 100% of page\n",
    "display(HTML(\"<style>.container { width:85% !important; }</style>\"))\n",
    "\n",
    "#Code hiding function from http://blog.nextgenetics.net/?e=102\n",
    "HTML('''<script>\n",
    "code_show=true; \n",
    "function code_toggle() {\n",
    " if (code_show){\n",
    " $('div.input').hide();\n",
    " } else {\n",
    " $('div.input').show();\n",
    " }\n",
    " code_show = !code_show\n",
    "} \n",
    "$( document ).ready(code_toggle);\n",
    "</script>\n",
    "The raw code for this IPython notebook is by default hidden for easier reading.\n",
    "To toggle on/off the raw code, click <a href=\"javascript:code_toggle()\">here</a>.''')"
   ]
  },
  {
   "cell_type": "code",
   "execution_count": 5,
   "metadata": {
    "scrolled": false
   },
   "outputs": [
    {
     "data": {
      "application/vnd.jupyter.widget-view+json": {
       "model_id": "df6b505f538e45f5ae0452c1d2a44edd",
       "version_major": 2,
       "version_minor": 0
      },
      "text/plain": [
       "Label(value='Upload an .aor file and select an AOR.  If you select more than one AOR, select a primary target …"
      ]
     },
     "metadata": {},
     "output_type": "display_data"
    },
    {
     "data": {
      "application/vnd.jupyter.widget-view+json": {
       "model_id": "9f2d0cb828464bf0bd8ec0b5e18f597f",
       "version_major": 2,
       "version_minor": 0
      },
      "text/plain": [
       "FileUpload(value={}, accept='.aor', description='Upload AORs')"
      ]
     },
     "metadata": {},
     "output_type": "display_data"
    },
    {
     "data": {
      "application/vnd.jupyter.widget-view+json": {
       "model_id": "bfe2e75e99bf4617939448108dc1f5d4",
       "version_major": 2,
       "version_minor": 0
      },
      "text/plain": [
       "HBox(children=(SelectMultiple(description='Select AOR(s):', disabled=True, options=('NONE',), style=Descriptio…"
      ]
     },
     "metadata": {},
     "output_type": "display_data"
    },
    {
     "data": {
      "application/vnd.jupyter.widget-view+json": {
       "model_id": "77d9a082d9f043dfa2bfb0d7a982847d",
       "version_major": 2,
       "version_minor": 0
      },
      "text/plain": [
       "Label(value='Reciever and frequency information.  Automatically set to the primary frequency of the AOR, but c…"
      ]
     },
     "metadata": {},
     "output_type": "display_data"
    },
    {
     "data": {
      "application/vnd.jupyter.widget-view+json": {
       "model_id": "7d77f9377a5242c09f6e5d977ad8f139",
       "version_major": 2,
       "version_minor": 0
      },
      "text/plain": [
       "HBox(children=(Dropdown(description='Reciever:', index=1, options=('HFA', 'LFAV', 'LFAH', '4G_4', '4G_3', '4G_…"
      ]
     },
     "metadata": {},
     "output_type": "display_data"
    },
    {
     "data": {
      "application/vnd.jupyter.widget-view+json": {
       "model_id": "5416f38bce724b8bb3639de0e8ec244c",
       "version_major": 2,
       "version_minor": 0
      },
      "text/plain": [
       "Label(value='Observation parameters automatically set by AOR.  Only adjust if you know what you are doing.')"
      ]
     },
     "metadata": {},
     "output_type": "display_data"
    },
    {
     "data": {
      "application/vnd.jupyter.widget-view+json": {
       "model_id": "e1aa541d0a7d481988fdf72cc9d5bd23",
       "version_major": 2,
       "version_minor": 0
      },
      "text/plain": [
       "HBox(children=(Checkbox(value=False, description='Total Power OTF/Raster Map'), IntText(value=1, description='…"
      ]
     },
     "metadata": {},
     "output_type": "display_data"
    },
    {
     "data": {
      "application/vnd.jupyter.widget-view+json": {
       "model_id": "5adc4c9ccc7e465394389c7a5b1b09ac",
       "version_major": 2,
       "version_minor": 0
      },
      "text/plain": [
       "Label(value='Enter the system temperature $T_{sys}$ from SITE and the desired spectral resolution in km s$^{-1…"
      ]
     },
     "metadata": {},
     "output_type": "display_data"
    },
    {
     "data": {
      "application/vnd.jupyter.widget-view+json": {
       "model_id": "df4c2823a3cd481b8b7e6284ce1952c3",
       "version_major": 2,
       "version_minor": 0
      },
      "text/plain": [
       "HBox(children=(FloatText(value=0.0, description='$T_{\\\\mbox{sys}}$ (K):', step=1.0), FloatText(value=1.0, desc…"
      ]
     },
     "metadata": {},
     "output_type": "display_data"
    },
    {
     "data": {
      "application/vnd.jupyter.widget-view+json": {
       "model_id": "2f639b613c6e4fdaa934394caf22c94b",
       "version_major": 2,
       "version_minor": 0
      },
      "text/plain": [
       "HTML(value='<style>p{word-wrap: break-word}</style> <p>Enter sky map information to define the 2D grid the obs…"
      ]
     },
     "metadata": {},
     "output_type": "display_data"
    },
    {
     "data": {
      "application/vnd.jupyter.widget-view+json": {
       "model_id": "ed49aeb630184237a5bc919f220dddf5",
       "version_major": 2,
       "version_minor": 0
      },
      "text/plain": [
       "HBox(children=(FloatText(value=1.0, description='Spatial resolution in arcsec:', style=DescriptionStyle(descri…"
      ]
     },
     "metadata": {},
     "output_type": "display_data"
    },
    {
     "data": {
      "application/vnd.jupyter.widget-view+json": {
       "model_id": "3281e7fa61504ad1bdb6d5b991d9460b",
       "version_major": 2,
       "version_minor": 0
      },
      "text/plain": [
       "FloatText(value=1.0, description='Plate-scale (arcsec):', disabled=True, style=DescriptionStyle(description_wi…"
      ]
     },
     "metadata": {},
     "output_type": "display_data"
    },
    {
     "data": {
      "application/vnd.jupyter.widget-view+json": {
       "model_id": "c4b14579b9284f93828e29392bc412cf",
       "version_major": 2,
       "version_minor": 0
      },
      "text/plain": [
       "HBox(children=(Label(value='x:'), FloatText(value=100.0), Label(value=' to '), FloatText(value=-100.0), Label(…"
      ]
     },
     "metadata": {},
     "output_type": "display_data"
    },
    {
     "data": {
      "application/vnd.jupyter.widget-view+json": {
       "model_id": "cb8519dfe55f4f2e8b44d9d478c2e3d1",
       "version_major": 2,
       "version_minor": 0
      },
      "text/plain": [
       "HBox(children=(Label(value='y:'), FloatText(value=-100.0), Label(value=' to '), FloatText(value=100.0), Label(…"
      ]
     },
     "metadata": {},
     "output_type": "display_data"
    },
    {
     "data": {
      "application/vnd.jupyter.widget-view+json": {
       "model_id": "ca44d19a512e4e90a0e7b910f3dfbd61",
       "version_major": 2,
       "version_minor": 0
      },
      "text/plain": [
       "Label(value='Enter information about the artificial signal on the sky that will be used to construct the simul…"
      ]
     },
     "metadata": {},
     "output_type": "display_data"
    },
    {
     "data": {
      "application/vnd.jupyter.widget-view+json": {
       "model_id": "3138d40b27d442dda2d848d0973d94ea",
       "version_major": 2,
       "version_minor": 0
      },
      "text/plain": [
       "Dropdown(description='Distribution:', options=('Uniform', '2D Gaussian', 'Ellipse', 'Upload WISE Band 3 FITS F…"
      ]
     },
     "metadata": {},
     "output_type": "display_data"
    },
    {
     "data": {
      "application/vnd.jupyter.widget-view+json": {
       "model_id": "213f9a0748254af8bf68a8695e2f7ee5",
       "version_major": 2,
       "version_minor": 0
      },
      "text/plain": [
       "FileUpload(value={}, accept='*', description='Upload FITS file', layout=Layout(visibility='hidden'))"
      ]
     },
     "metadata": {},
     "output_type": "display_data"
    },
    {
     "data": {
      "application/vnd.jupyter.widget-view+json": {
       "model_id": "54eba0a1545c46e598733f7f329bf68b",
       "version_major": 2,
       "version_minor": 0
      },
      "text/plain": [
       "FileUpload(value={}, accept='*', description='Upload FITS file', layout=Layout(visibility='hidden'))"
      ]
     },
     "metadata": {},
     "output_type": "display_data"
    },
    {
     "data": {
      "application/vnd.jupyter.widget-view+json": {
       "model_id": "1fff4ad31fd043358635513f03e27b1a",
       "version_major": 2,
       "version_minor": 0
      },
      "text/plain": [
       "HBox(children=(VBox(children=(FloatText(value=1.0, description='$T_a$ (K)', layout=Layout(visibility='visible'…"
      ]
     },
     "metadata": {},
     "output_type": "display_data"
    },
    {
     "data": {
      "application/vnd.jupyter.widget-view+json": {
       "model_id": "5ea81423fb464e3b950ec543a89dee49",
       "version_major": 2,
       "version_minor": 0
      },
      "text/plain": [
       "Label(value='')"
      ]
     },
     "metadata": {},
     "output_type": "display_data"
    },
    {
     "data": {
      "application/vnd.jupyter.widget-view+json": {
       "model_id": "c101ce9ea7f044fdb823fe11060a6a36",
       "version_major": 2,
       "version_minor": 0
      },
      "text/plain": [
       "HTML(value='<style>p{word-wrap: break-word}</style> <p>Once everything is set, click Simulate Observation to g…"
      ]
     },
     "metadata": {},
     "output_type": "display_data"
    },
    {
     "data": {
      "application/vnd.jupyter.widget-view+json": {
       "model_id": "fe7a8f5277e843faba40f58cb3322a85",
       "version_major": 2,
       "version_minor": 0
      },
      "text/plain": [
       "HBox(children=(Button(description='Simulate Observation', style=ButtonStyle()), Checkbox(value=False, descript…"
      ]
     },
     "metadata": {},
     "output_type": "display_data"
    },
    {
     "data": {
      "application/vnd.jupyter.widget-view+json": {
       "model_id": "832ae5547b78465caecac5d2c193009c",
       "version_major": 2,
       "version_minor": 0
      },
      "text/plain": [
       "Label(value='Select map type to view in an interactive plot below.')"
      ]
     },
     "metadata": {},
     "output_type": "display_data"
    },
    {
     "data": {
      "application/vnd.jupyter.widget-view+json": {
       "model_id": "b171449fb9a0420692b388ec63a7053c",
       "version_major": 2,
       "version_minor": 0
      },
      "text/plain": [
       "RadioButtons(description='Map Type', layout=Layout(width='max-content'), options=('Exposure', 'Artificial Sign…"
      ]
     },
     "metadata": {},
     "output_type": "display_data"
    },
    {
     "data": {
      "application/vnd.jupyter.widget-view+json": {
       "model_id": "26836651f61c42729fd709fcd1d4f4a8",
       "version_major": 2,
       "version_minor": 0
      },
      "text/plain": [
       "Canvas(toolbar=Toolbar(toolitems=[('Home', 'Reset original view', 'home', 'home'), ('Back', 'Back to previous …"
      ]
     },
     "metadata": {},
     "output_type": "display_data"
    },
    {
     "name": "stdout",
     "output_type": "stream",
     "text": [
      "Wise band 3 fired\n",
      "wise band 1 fired\n"
     ]
    }
   ],
   "source": [
    "#Load AORs\n",
    "\n",
    "display(Label(value=\"Upload an .aor file and select an AOR.  If you select more than one AOR, select a primary target to center map on.\"))\n",
    "widget_upload_aor = widgets.FileUpload(accept='.aor', multiple=False, description=\"Upload AORs\",\n",
    "                                        layout=Layout(position='left'))\n",
    "widget_select_aor = widgets.SelectMultiple(options=['NONE'], description='Select AOR(s):', disabled=True,\n",
    "                                    layout=Layout(position='right'), style={'description_width': 'initial'})\n",
    "widget_select_target = widgets.Dropdown(options=['NONE'], description='Select primary target:', disabled=True, style={'description_width': 'initial'})\n",
    "display(widget_upload_aor)\n",
    "display(HBox([widget_select_aor, widget_select_target]))\n",
    "\n",
    "\n",
    "display(Label(value=\"Reciever and frequency information.  Automatically set to the primary frequency of the AOR, but can be adjusted by hand.\"))\n",
    "reciever_options = ['HFA', 'LFAV', 'LFAH', '4G_4', '4G_3', '4G_2', '4G_1']\n",
    "widget_select_reciever = widgets.Dropdown(options=reciever_options, value='LFAV', description='Reciever:', )\n",
    "widget_frequency = widgets.FloatText(description='Frequency (GHz):', value=0., style={'description_width': 'initial'})\n",
    "\n",
    "display(HBox([widget_select_reciever, widget_frequency], layout=Layout(overflow='hidden')))\n",
    "\n",
    "\n",
    "display(Label(value=\"Observation parameters automatically set by AOR.  Only adjust if you know what you are doing.\"))\n",
    "widget_total_power_map = widgets.Checkbox(description=\"Total Power OTF/Raster Map\")\n",
    "widget_non = widgets.IntText(description=\"$N_{on}$\", value=1)\n",
    "#display(widget_upload_aor, widget_select_aor)/\n",
    "#display()\n",
    "display(HBox([widget_total_power_map, widget_non], layout=Layout(overflow='hidden')))\n",
    "\n",
    "\n",
    "def on_aor_upload(change):\n",
    "    aors = sens_map_lib.open_aors(widget_upload_aor) #Generate aors class\n",
    "    aor_ids = [] #Update widget_select_aor options showing the AOR IDs that can now be selected\n",
    "    targets = []\n",
    "    for aor in aors:\n",
    "        aor_ids.append(aor.aor_id)\n",
    "        targets.append(aor.target)\n",
    "    widget_select_aor.options = aor_ids\n",
    "    widget_select_aor.disabled = False\n",
    "    widget_select_target.options = targets\n",
    "    widget_select_target.disabled = False\n",
    "    widget_select_aor.index = [0]\n",
    "    on_aor_select(0)\n",
    "\n",
    "widget_upload_aor.observe(on_aor_upload, names='value') #\n",
    "\n",
    "def on_aor_select(change):\n",
    "    aors = sens_map_lib.open_aors(widget_upload_aor) #Generate aors class\n",
    "    if len(widget_select_aor.index) > 0: #Error catch\n",
    "        aor = aors[widget_select_aor.index[-1]]\n",
    "        widget_select_target.index = widget_select_aor.index[-1]\n",
    "        if (aor.map_type == 'GREAT_Raster' or aor.map_type == 'GREAT_OTF' or aor.map_type == 'GREAT_ON_THE_FLY_ARRAY_MAPPING' or aor.map_type == 'GREAT_ON_THE_FLY_HONEYCOMB_MAP') and aor.nod_type == 'Total_Power':\n",
    "            widget_total_power_map.value = True\n",
    "        else:\n",
    "            widget_total_power_map.value = False\n",
    "        if aor.map_type == 'GREAT_Raster' or aor.map_type == 'GREAT_OTF' or aor.map_type == 'GREAT_ON_THE_FLY_ARRAY_MAPPING':\n",
    "            widget_non.value = aor.Non\n",
    "        try:\n",
    "            primary_frequency = aor.primary_frequency\n",
    "            widget_select_reciever.value = primary_frequency\n",
    "            on_reciever_select(0)\n",
    "        except:\n",
    "            print(\"WARNING: Unable to understand primiary frequency '\"+primary_frequency+\"' for automatically setting the reciever when selecting an aor.\" )\n",
    "        \n",
    "    \n",
    "widget_select_aor.observe(on_aor_select, names='value')\n",
    "\n",
    "# output_aors = widget_upload_aor.observe(create_aors)\n",
    "\n",
    "#aors[0].aor_id\n",
    "\n",
    "\n",
    "def on_reciever_select(change):\n",
    "    aors = sens_map_lib.open_aors(widget_upload_aor) #Generate aors class\n",
    "    aor = aors[widget_select_aor.index[-1]]\n",
    "    reciever = widget_select_reciever.value\n",
    "    if reciever == 'HFA':\n",
    "        widget_frequency.value = aor.frequencies[0] / 1e9\n",
    "    elif reciever == 'LFAH' or reciever == 'LFA (Combined)' or reciever =='4G_1':\n",
    "        widget_frequency.value = aor.frequencies[1] / 1e9\n",
    "    elif reciever == 'LFAV' or reciever == '4G_2':\n",
    "        widget_frequency.value = aor.frequencies[2] / 1e9\n",
    "    elif reciever == '4G_3':\n",
    "        widget_frequency.value = aor.frequencies[3] / 1e9\n",
    "    elif reciever == '4G_4':\n",
    "        widget_frequency.value = aor.frequencies[4] / 1e9\n",
    "\n",
    "widget_select_reciever.observe(on_reciever_select, names='value')\n",
    "\n",
    "\n",
    "display(Label('Enter the system temperature $T_{sys}$ from SITE and the desired spectral resolution in km s$^{-1}$.'))\n",
    "widget_tsys = widgets.FloatText(description='$T_{\\mbox{sys}}$ (K):', value=0.0, step=1.0)\n",
    "widget_deltav = widgets.FloatText(description='$\\Delta$v (km s$^{-1}$):', value=1.0, style={'description_width': 'initial'}, step=0.1)\n",
    "display(HBox([widget_tsys, widget_deltav], layout=Layout(overflow='hidden')))\n",
    "\n",
    "\n",
    "display(widgets.HTML(value= '<style>p{word-wrap: break-word}</style> <p>'+ 'Enter sky map information to define the 2D grid the observation will be simulated on.  In general each reported parameter will be in units of area on the sky defined by the plate scale.  For maps, the plate scale usually is set to the map step size.  Setting the spatial reslution higher and downsampling usually produces better results.'  +' </p>'))\n",
    "\n",
    "\n",
    "widget_xmin = widgets.FloatText(value=-100.0)\n",
    "widget_xmax = widgets.FloatText(value=100.0)\n",
    "widget_ymin = widgets.FloatText(value=-100.0)\n",
    "widget_ymax = widgets.FloatText(value=100.0)\n",
    "widget_resolution = widgets.FloatText(value=1.0, description=\"Spatial resolution in arcsec:\", style={'description_width': 'initial'})\n",
    "widget_downsample = widgets.IntText(value=1.0, description='Downsample', style={'description_width': 'initial'})\n",
    "widget_platescale = widgets.FloatText(value=1.0, description='Plate-scale (arcsec):',  style={'description_width': 'initial'}, disabled=True)\n",
    "display(HBox([widget_resolution, widget_downsample], layout=Layout(overflow='hidden')))\n",
    "display(widget_platescale)\n",
    "display(HBox([Label(value=\"x:\"), widget_xmax, Label(value=\" to \"), widget_xmin, Label(value=\" arcsec\")], layout=Layout(overflow='hidden')))\n",
    "display(HBox([Label(value=\"y:\"), widget_ymin, Label(value=\" to \"), widget_ymax, Label(value=\" arcsec\")], layout=Layout(overflow='hidden')))\n",
    "        \n",
    "def update_platescale(change):\n",
    "    widget_platescale.value = widget_resolution.value * widget_downsample.value\n",
    "\n",
    "widget_resolution.observe(update_platescale, names='value')\n",
    "widget_downsample.observe(update_platescale, names='value')\n",
    "\n",
    "\n",
    "\n",
    "display(Label(value=\"Enter information about the artificial signal on the sky that will be used to construct the simulated observation.\"))\n",
    "widget_signal_select = widgets.Dropdown(description=\"Distribution:\", options=['Uniform', '2D Gaussian', 'Ellipse', 'Upload WISE Band 3 FITS File'])\n",
    "widget_signal_amplitude = widgets.FloatText(value=1.0, description='$T_a$ (K)', layout=Layout(visibility='visible'))\n",
    "widget_signal_x0 = widgets.FloatText(value=0.0, description='$x_0$ (arcsec)', layout=Layout(visibility='hidden'))\n",
    "widget_signal_y0 = widgets.FloatText(value=0.0, description='$y_0$ (arcsec)', layout=Layout(visibility='hidden'))\n",
    "widget_signal_a = widgets.FloatText(value=1.0, description='$\\sigma_x$ (arcsec)', layout=Layout(visibility='hidden'))\n",
    "widget_signal_b = widgets.FloatText(value=1.0, description='$\\sigma_y$ (arcsec)', layout=Layout(visibility='hidden'))\n",
    "widget_signal_theta = widgets.FloatText(value=0.0, description=r'$\\theta$ (radians)', layout=Layout(visibility='hidden'))\n",
    "widget_upload_wise_band3 = widgets.FileUpload(accept='*', multiple=False, description=\"Upload FITS file\",\n",
    "                                        layout=Layout(position='left', visibility='hidden'))\n",
    "widget_upload_wise_band1 = widgets.FileUpload(accept='*', multiple=False, description=\"Upload FITS file\",\n",
    "                                        layout=Layout(position='left', visibility='hidden'))\n",
    "widget_upload_display_wise_band3_text = widgets.Label(value='WISE Band 3:', layout=Layout(visibility='hidden'))\n",
    "widget_upload_display_wise_band1_text = widgets.Label(value='WISE Band 1:', layout=Layout(visibility='hidden'))\n",
    "\n",
    "display(widget_signal_select)\n",
    "display(widget_upload_wise_band3)\n",
    "display(widget_upload_wise_band1)\n",
    "display(HBox([VBox([widget_signal_amplitude, widget_signal_x0, widget_signal_y0], layout=Layout(overflow='hidden')), VBox([widget_signal_a, widget_signal_b, widget_signal_theta], layout=Layout(overflow='hidden'))], layout=Layout(overflow='hidden')))\n",
    "\n",
    "def update_wise_band3_text(change):\n",
    "    print('Wise band 3 fired')\n",
    "    \n",
    "def update_wise_band1_text(change):\n",
    "    print('wise band 1 fired')\n",
    "\n",
    "widget_upload_wise_band3.observe(update_wise_band3_text, names='value')\n",
    "widget_upload_wise_band1.observe(update_wise_band1_text, names='value')\n",
    "\n",
    "def update_artificial_signal(change):\n",
    "    if widget_signal_select.value == 'Uniform':\n",
    "        widget_signal_amplitude.layout.visibility = 'visible'\n",
    "        widget_signal_x0.layout.visibility = 'hidden'\n",
    "        widget_signal_y0.layout.visibility = 'hidden'\n",
    "        widget_signal_a.layout.visibility = 'hidden'\n",
    "        widget_signal_b.layout.visibility = 'hidden'\n",
    "        widget_signal_theta.layout.visibility = 'hidden'\n",
    "        widget_upload_wise_band3.layout.visibility = 'hidden'\n",
    "        widget_upload_display_wise_band3_text.layout.visibility = 'hidden'\n",
    "        widget_upload_wise_band1.layout.visibility = 'hidden'\n",
    "        widget_upload_display_wise_band1_text.layout.visibility = 'hidden'\n",
    "    elif widget_signal_select.value == '2D Gaussian':\n",
    "        widget_signal_a.description = '$\\sigma_x$ (arcsec)'\n",
    "        widget_signal_b.description = '$\\sigma_y$ (arcsec)'\n",
    "        widget_signal_amplitude.layout.visibility = 'visible'\n",
    "        widget_signal_x0.layout.visibility = 'visible'\n",
    "        widget_signal_y0.layout.visibility = 'visible'\n",
    "        widget_signal_a.layout.visibility = 'visible'\n",
    "        widget_signal_b.layout.visibility = 'visible'\n",
    "        widget_signal_theta.layout.visibility = 'visible'\n",
    "        widget_upload_wise_band3.layout.visibility = 'hidden'\n",
    "        widget_upload_display_wise_band3_text.layout.visibility = 'hidden'\n",
    "        widget_upload_wise_band1.layout.visibility = 'hidden'\n",
    "        widget_upload_display_wise_band1_text.layout.visibility = 'hidden'\n",
    "    elif widget_signal_select.value == 'Ellipse':\n",
    "        widget_signal_a.description = 'a (arcsec)'\n",
    "        widget_signal_b.description = 'b (arcsec)'\n",
    "        widget_signal_amplitude.layout.visibility = 'visible'\n",
    "        widget_signal_x0.layout.visibility = 'visible'\n",
    "        widget_signal_y0.layout.visibility = 'visible'\n",
    "        widget_signal_a.layout.visibility = 'visible'\n",
    "        widget_signal_b.layout.visibility = 'visible'\n",
    "        widget_signal_theta.layout.visibility = 'visible'\n",
    "        widget_upload_wise_band3.layout.visibility = 'hidden'\n",
    "        widget_upload_display_wise_band3_text.layout.visibility = 'hidden'\n",
    "        widget_upload_wise_band1.layout.visibility = 'hidden'\n",
    "        widget_upload_display_wise_band1_text.layout.visibility = 'hidden'\n",
    "    elif widget_signal_select.value == 'Upload WISE Band 3 FITS File':\n",
    "        widget_signal_amplitude.layout.visibility = 'hidden'\n",
    "        widget_signal_x0.layout.visibility = 'hidden'\n",
    "        widget_signal_y0.layout.visibility = 'hidden'\n",
    "        widget_signal_a.layout.visibility = 'hidden'\n",
    "        widget_signal_b.layout.visibility = 'hidden'\n",
    "        widget_signal_theta.layout.visibility = 'hidden'\n",
    "        widget_upload_wise_band3.layout.visibility = 'visible'\n",
    "        widget_upload_display_wise_band3_text.layout.visibility = 'visible'\n",
    "        widget_upload_wise_band1.layout.visibility = 'visible'\n",
    "        widget_upload_display_wise_band1_text.layout.visibility = 'visible'\n",
    "        \n",
    "    \n",
    "widget_signal_select.observe(update_artificial_signal, names='value')\n",
    "\n",
    "\n",
    "# def update_on_wise_band3_fits_upload(change):\n",
    "#     print('YOU CLICKED THE BUTTON')\n",
    "#     aors = sens_map_lib.open_aors(widget_upload_aor) #Simulate observation\n",
    "#     aor_with_primary_target = aors[widget_select_target.index]\n",
    "#     skyobj.import_wise_band3(widget_upload_wise_band3.data[0], aor_with_primary_target, deltav=widget_deltav.value)\n",
    "#     print('stuff happened')\n",
    "     \n",
    "\n",
    "# widget_upload_wise_band3.observe(update_on_wise_band3_fits_upload, names='value')\n",
    "\n",
    "\n",
    "\n",
    "\n",
    "def run_simulate_observation(b): #Runs when simluate observation is pressed\n",
    "    deltav = widget_deltav.value \n",
    "    reciever = widget_select_reciever.value\n",
    "    frequency = widget_frequency.value * 1e9\n",
    "    is_total_power_map = widget_total_power_map.value\n",
    "    tsys = widget_tsys.value\n",
    "    non = widget_non.value\n",
    "    aors = sens_map_lib.open_aors(widget_upload_aor) #Simulate observation\n",
    "    aor_with_primary_target = aors[widget_select_target.index]\n",
    "    \n",
    "    xmin, xmax = widget_xmin.value, widget_xmax.value #Update skyobj\n",
    "    ymin, ymax = widget_ymin.value, widget_ymax.value\n",
    "    spatial_resolution = widget_resolution.value\n",
    "    skyobj.update([xmin, xmax], [ymin, ymax], spatial_resolution)\n",
    "    if widget_signal_select.value == 'Uniform':\n",
    "        skyobj.uniform(widget_signal_amplitude.value)\n",
    "    elif widget_signal_select.value == '2D Gaussian': \n",
    "        gaussian_2d = models.Gaussian2D(amplitude=widget_signal_amplitude.value, #Generate 2D gaussian using an astropy model\n",
    "            x_mean=widget_signal_x0.value,\n",
    "            y_mean=widget_signal_y0.value,\n",
    "            x_stddev=widget_signal_a.value,\n",
    "            y_stddev=widget_signal_b.value,\n",
    "            theta=widget_signal_theta.value) \n",
    "        skyobj.input(gaussian_2d) #Input 2D ellipse into skyobj\n",
    "    elif widget_signal_select.value == 'Ellipse':\n",
    "        ellipse = models.Ellipse2D(amplitude=widget_signal_amplitude.value, #Generate 2D ellipse using an astropy model\n",
    "            x_0=widget_signal_x0.value,\n",
    "            y_0=widget_signal_y0.value,\n",
    "            a=widget_signal_a.value,\n",
    "            b=widget_signal_b.value,\n",
    "            theta=widget_signal_theta.value) \n",
    "        skyobj.input(ellipse) #Input 2D ellipse into skyobj\n",
    "    elif widget_signal_select.value == 'Upload WISE Band 3 FITS File':\n",
    "        skyobj.import_wise_band3(widget_upload_wise_band3.data[0], aor_with_primary_target, deltav=deltav, frequency=frequency)\n",
    "        if any(widget_upload_wise_band1.data): #If WISE Band 1 fits file also included, use it to subtract the stellar continuum\n",
    "            skyobj.import_wise_band1(widget_upload_wise_band1.data[0], aor_with_primary_target, deltav=deltav, frequency=frequency)\n",
    "        \n",
    "\n",
    "    for aor_index in widget_select_aor.index:\n",
    "        dra, ddec = aor_with_primary_target.target_offsets(aors[aor_index])\n",
    "        aors[aor_index].x += dra\n",
    "        aors[aor_index].y += ddec\n",
    "        aors[aor_index].paint(skyobj, reciever)\n",
    "    skyobj.simulate_observation(Tsys=tsys, deltav=deltav, freq=frequency, TPOTF=is_total_power_map, Non=non, simulate_noise=widget_simulate_noise.value)\n",
    "    skyobj.downsample(widget_downsample.value)\n",
    "    update_map(None)\n",
    "    \n",
    "widget_simulate_observation = widgets.Button(description=\"Simulate Observation\")\n",
    "widget_simulate_noise = widgets.Checkbox(description=\"Add Simulated Noise\", value=False)\n",
    "widget_simulate_observation.on_click(run_simulate_observation)\n",
    "\n",
    "\n",
    "\n",
    "\n",
    "\n",
    "\n",
    "display(Label(\"\"))\n",
    "display(widgets.HTML(value= '<style>p{word-wrap: break-word}</style> <p>'+ 'Once everything is set, click Simulate Observation to generate all maps.  This might take a few minutes to run depending on the chosen spatial resolution and size of the map.  If the above options are adjusted, you need to click Simulate Observations again to regenerate new maps.'  +' </p>')\n",
    ")\n",
    "\n",
    "display(HBox([widget_simulate_observation, widget_simulate_noise]))\n",
    "# widget_select_reciever.observe(on_reciever_select, names='value')\n",
    "\n",
    "display(Label(\"Select map type to view in an interactive plot below.\"))\n",
    "\n",
    "\n",
    "widget_map_select = widgets.RadioButtons(options=['Exposure', 'Artificial Signal', 'Noise', r'Simulated $T_a$','S/N'],  layout={'width': 'max-content'}, description=\"Map Type\")\n",
    "display(widget_map_select)\n",
    "\n",
    "\n",
    "\n",
    "\n",
    "def run_save_map(b):\n",
    "    interactive_plot.savefig\n",
    "\n",
    "widget_save_map = widgets.Button(description=\"Save Map\")\n",
    "widget_simulate_observation.on_click(run_save_map)\n",
    "\n",
    "    \n",
    "# display(Enter simulated signal.)\n",
    "# simulated_signal_options = [\"Uniform\", \"Circle\", \"Gaussian\"]\n",
    "# widget_simulated_shape = widgets.ToggleButton\n",
    "\n",
    "#Define skyobj\n",
    "xmin, xmax = widget_xmin.value, widget_xmax.value\n",
    "ymin, ymax = widget_ymin.value, widget_ymax.value\n",
    "spatial_resolution = widget_resolution.value\n",
    "skyobj = sens_map_lib.sky([xmin, xmax], [ymin, ymax], spatial_resolution)\n",
    "\n",
    "#Define interactive figure\n",
    "#interactive_plot = plt.figure(figsize=[5,4])\n",
    "interactive_plot = plt.figure()\n",
    "#\n",
    "interactive_plot.tight_layout(rect=[0.3,0.3,0.7,0.7])\n",
    "\n",
    "def update_map(change):\n",
    "    interactive_plot.clf()\n",
    "    if widget_map_select.value == 'Exposure':\n",
    "        skyobj.plot('exposure')\n",
    "    elif widget_map_select.value == 'Artificial Signal':\n",
    "        skyobj.plot('signal')\n",
    "    elif widget_map_select.value == 'Noise':\n",
    "        skyobj.plot('noise')\n",
    "    elif widget_map_select.value == r'Simulated $T_a$':\n",
    "        skyobj.plot('data')\n",
    "    elif widget_map_select.value == 'S/N':\n",
    "        skyobj.plot('s2n')\n",
    "    #interactive_plot.tight_layout(rect=[0.00,0.1,0.90,0.95])\n",
    "    \n",
    "\n",
    "widget_map_select.observe(update_map, names='value')\n",
    "\n"
   ]
  },
  {
   "cell_type": "code",
   "execution_count": null,
   "metadata": {},
   "outputs": [],
   "source": []
  },
  {
   "cell_type": "code",
   "execution_count": null,
   "metadata": {},
   "outputs": [],
   "source": []
  }
 ],
 "metadata": {
  "kernelspec": {
   "display_name": "Python 3 (ipykernel)",
   "language": "python",
   "name": "python3"
  },
  "language_info": {
   "codemirror_mode": {
    "name": "ipython",
    "version": 3
   },
   "file_extension": ".py",
   "mimetype": "text/x-python",
   "name": "python",
   "nbconvert_exporter": "python",
   "pygments_lexer": "ipython3",
   "version": "3.8.11"
  }
 },
 "nbformat": 4,
 "nbformat_minor": 4
}
