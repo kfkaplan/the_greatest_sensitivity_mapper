{
 "cells": [
  {
   "cell_type": "code",
   "execution_count": null,
   "metadata": {
    "scrolled": true
   },
   "outputs": [],
   "source": [
    "#This notebook is for testing ipython widgets to make a GUI for the GREAT Exposure Mapping Program"
   ]
  },
  {
   "cell_type": "code",
   "execution_count": null,
   "metadata": {
    "scrolled": true
   },
   "outputs": [],
   "source": [
    "#Import necessary libraries\n",
    "import sens_map_lib #main library for the sensitivity |mapper\n",
    "import numpy as np #numpy\n",
    "from astropy.modeling import models #For generating synthetic signal on the sky\n",
    "from matplotlib import pyplot as plt #For plotting\n",
    "\n",
    "import ipywidgets as widgets #For widgets\n",
    "from ipywidgets import Layout, HBox, VBox, Label\n",
    "%matplotlib notebook\n",
    "\n",
    "from IPython.core.display import display, HTML #Make width of notebook 100% of page\n",
    "display(HTML(\"<style>.container { width:100% !important; }</style>\"))"
   ]
  },
  {
   "cell_type": "code",
   "execution_count": null,
   "metadata": {},
   "outputs": [],
   "source": []
  },
  {
   "cell_type": "code",
   "execution_count": null,
   "metadata": {},
   "outputs": [],
   "source": []
  },
  {
   "cell_type": "code",
   "execution_count": null,
   "metadata": {},
   "outputs": [],
   "source": []
  },
  {
   "cell_type": "code",
   "execution_count": null,
   "metadata": {},
   "outputs": [],
   "source": []
  }
 ],
 "metadata": {
  "kernelspec": {
   "display_name": "Python 3",
   "language": "python",
   "name": "python3"
  },
  "language_info": {
   "codemirror_mode": {
    "name": "ipython",
    "version": 3
   },
   "file_extension": ".py",
   "mimetype": "text/x-python",
   "name": "python",
   "nbconvert_exporter": "python",
   "pygments_lexer": "ipython3",
   "version": "3.8.8"
  }
 },
 "nbformat": 4,
 "nbformat_minor": 4
}
